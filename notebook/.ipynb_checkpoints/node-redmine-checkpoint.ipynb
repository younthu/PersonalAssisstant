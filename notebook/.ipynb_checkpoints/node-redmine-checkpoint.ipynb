{
 "cells": [
  {
   "cell_type": "code",
   "execution_count": 2,
   "id": "ce0bbda0",
   "metadata": {},
   "outputs": [
    {
     "name": "stdout",
     "output_type": "stream",
     "text": [
      "Dumping issue:\n",
      "  id: 134\n",
      "  project: {\"id\":1,\"name\":\"Default\"}\n",
      "  tracker: {\"id\":2,\"name\":\"Feature\"}\n",
      "  status: {\"id\":1,\"name\":\"New\"}\n",
      "  priority: {\"id\":2,\"name\":\"Normal\"}\n",
      "  author: {\"id\":1,\"name\":\"Redmine Admin\"}\n",
      "  parent: {\"id\":15}\n",
      "  subject: \"建一个开源的项目-生活技巧指南\"\n",
      "  description: \"搜集一些生活技巧。不知道是否可行。\"\n",
      "  start_date: \"2021-12-22\"\n",
      "  due_date: null\n",
      "  done_ratio: 0\n",
      "  is_private: false\n",
      "  estimated_hours: null\n",
      "  custom_fields: [{\"id\":1,\"name\":\"Size\",\"value\":\"S\"}]\n",
      "  created_on: \"2021-12-22T13:51:52Z\"\n",
      "  updated_on: \"2021-12-22T13:51:52Z\"\n",
      "  closed_on: null\n",
      "Dumping issue:\n",
      "  id: 133\n",
      "  project: {\"id\":1,\"name\":\"Default\"}\n",
      "  tracker: {\"id\":4,\"name\":\"Task\"}\n",
      "  status: {\"id\":1,\"name\":\"New\"}\n",
      "  priority: {\"id\":2,\"name\":\"Normal\"}\n",
      "  author: {\"id\":6,\"name\":\"Andrew Yang\"}\n",
      "  assigned_to: {\"id\":6,\"name\":\"Andrew Yang\"}\n",
      "  parent: {\"id\":130}\n",
      "  subject: \"一元店wordpress发第一个商品链接\"\n",
      "  description: \"邀请人点击进去看看效果。\"\n",
      "  start_date: \"2021-12-15\"\n",
      "  due_date: null\n",
      "  done_ratio: 0\n",
      "  is_private: false\n",
      "  estimated_hours: null\n",
      "  custom_fields: [{\"id\":1,\"name\":\"Size\",\"value\":\"S\"}]\n",
      "  created_on: \"2021-12-15T06:57:30Z\"\n",
      "  updated_on: \"2021-12-15T06:57:30Z\"\n",
      "  closed_on: null\n",
      "total_count: 105\n"
     ]
    }
   ],
   "source": [
    "// from https://github.com/zanran/node-redmine\n",
    "var Redmine = require('node-redmine');\n",
    "\n",
    "// protocol required in Hostname, supports both HTTP and HTTPS\n",
    "var hostname = process.env.REDMINE_HOST || 'http://success.ilibrary.me';\n",
    "var config = {\n",
    "  apiKey: process.env.REDMINE_APIKEY || 'aa4d91d106be87cef3183fefddcd29xxxxxxxxxx'\n",
    "};\n",
    "\n",
    "var redmine = new Redmine(hostname, config);\n",
    "\n",
    "/**\n",
    " * Dump issue\n",
    " */\n",
    "var dump_issue = function(issue) {\n",
    "  console.log('Dumping issue:');\n",
    "  for (var item in issue) {\n",
    "    console.log('  ' + item + ': ' + JSON.stringify(issue[item]));\n",
    "  }\n",
    "};\n",
    "\n",
    "redmine.issues({limit: 2}, function(err, data) {\n",
    "  if (err) throw err;\n",
    "\n",
    "  for (var i in data.issues) {\n",
    "    dump_issue(data.issues[i]);\n",
    "  }\n",
    "\n",
    "  console.log('total_count: ' + data.total_count);\n",
    "});"
   ]
  },
  {
   "cell_type": "code",
   "execution_count": null,
   "id": "8f732d73",
   "metadata": {},
   "outputs": [],
   "source": []
  }
 ],
 "metadata": {
  "kernelspec": {
   "display_name": "JavaScript (Node.js)",
   "language": "javascript",
   "name": "javascript"
  },
  "language_info": {
   "file_extension": ".js",
   "mimetype": "application/javascript",
   "name": "javascript",
   "version": "17.9.0"
  }
 },
 "nbformat": 4,
 "nbformat_minor": 5
}
